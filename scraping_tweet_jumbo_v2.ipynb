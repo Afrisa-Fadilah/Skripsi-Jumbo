{
 "cells": [
  {
   "cell_type": "markdown",
   "id": "7d957365",
   "metadata": {},
   "source": [
    "# Scraping Tweet Film Jumbo dengan snscrape"
   ]
  },
  {
   "cell_type": "code",
   "execution_count": null,
   "id": "9ee94a88",
   "metadata": {},
   "outputs": [],
   "source": [
    "\n",
    "# Install library\n",
    "!pip install snscrape pandas\n",
    "    "
   ]
  },
  {
   "cell_type": "code",
   "execution_count": null,
   "id": "066304b1",
   "metadata": {},
   "outputs": [],
   "source": [
    "\n",
    "# Import library\n",
    "import snscrape.modules.twitter as sntwitter\n",
    "import pandas as pd\n",
    "    "
   ]
  },
  {
   "cell_type": "code",
   "execution_count": null,
   "id": "ee3cd20a",
   "metadata": {},
   "outputs": [],
   "source": [
    "\n",
    "# Atur query dan jumlah tweet yang ingin diambil\n",
    "query = \"film jumbo lang:id since:2024-04-01 until:2024-05-01\"\n",
    "limit = 1000\n",
    "tweets = []\n",
    "\n",
    "# Proses scraping\n",
    "for i, tweet in enumerate(sntwitter.TwitterSearchScraper(query).get_items()):\n",
    "    if i >= limit:\n",
    "        break\n",
    "    tweets.append([\n",
    "        tweet.date, tweet.user.username, tweet.content,\n",
    "        tweet.likeCount, tweet.retweetCount, tweet.replyCount\n",
    "    ])\n",
    "\n",
    "# Simpan ke DataFrame\n",
    "df = pd.DataFrame(tweets, columns=[\"Tanggal\", \"Username\", \"Isi Tweet\", \"Like\", \"Retweet\", \"Reply\"])\n",
    "df.to_csv(\"tweet_jumbo.csv\", index=False)\n",
    "\n",
    "# Tampilkan 5 tweet pertama\n",
    "df.head()\n",
    "    "
   ]
  }
 ],
 "metadata": {},
 "nbformat": 4,
 "nbformat_minor": 5
}
